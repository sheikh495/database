{
  "nbformat": 4,
  "nbformat_minor": 0,
  "metadata": {
    "colab": {
      "provenance": []
    },
    "kernelspec": {
      "name": "python3",
      "display_name": "Python 3"
    },
    "language_info": {
      "name": "python"
    }
  },
  "cells": [
    {
      "cell_type": "markdown",
      "source": [
        "### Part 1: Creating the Database Table and Inserting Data\n",
        "\n",
        "#### 1. Create the `Books` Table:\n",
        "```sql\n",
        "CREATE TABLE Books (\n",
        "  BookID INT AUTO_INCREMENT PRIMARY KEY,\n",
        "  Title VARCHAR(255) NOT NULL,\n",
        "  Author VARCHAR(255) NOT NULL,\n",
        "  Genre VARCHAR(100),\n",
        "  PublishedYear YEAR,\n",
        "  Price DECIMAL(10, 2),\n",
        "  ISBN VARCHAR(13) UNIQUE\n",
        ");\n",
        "```\n",
        "\n",
        "- **BookID**: A unique identifier for each book, automatically incremented.\n",
        "- **Title** and **Author**: Mandatory fields to ensure each book has a title and author.\n",
        "- **Genre**: Stores the genre of the book.\n",
        "- **PublishedYear**: Stores the year the book was published.\n",
        "- **Price**: The price of the book, with two decimal places for cents.\n",
        "- **ISBN**: A unique 13-character string, which can be `NULL` for some books.\n",
        "\n",
        "#### 2. Insert Data into the `Books` Table:\n",
        "```sql\n",
        "INSERT INTO Books (Title, Author, Genre, PublishedYear, Price, ISBN)\n",
        "VALUES\n",
        "('To Kill a Mockingbird', 'Harper Lee', 'Fiction', 1960, 10.99, NULL),\n",
        "('1984', 'George Orwell', 'Dystopian', 1949, 8.99, '9780451524935'),\n",
        "('The Great Gatsby', 'F. Scott Fitzgerald', 'Classic', 1925, 12.50, '9780743273565'),\n",
        "('The Catcher in the Rye', 'J.D. Salinger', 'Classic', 1951, 7.99, NULL),\n",
        "('Pride and Prejudice', 'Jane Austen', 'Romance', 1813, 9.99, '9780141439518');\n",
        "```\n",
        "\n",
        "### Part 2: Writing SQL Queries\n",
        "\n",
        "#### 1. Retrieve All Records:\n",
        "```sql\n",
        "SELECT * FROM Books;\n",
        "```\n",
        "- **Purpose**: This query retrieves all the records from the `Books` table.\n",
        "\n",
        "#### 2. List Distinct Genres:\n",
        "```sql\n",
        "SELECT DISTINCT Genre FROM Books;\n",
        "```\n",
        "- **Purpose**: This query finds all unique genres in the table.\n",
        "\n",
        "#### 3. Filter by Price:\n",
        "```sql\n",
        "SELECT * FROM Books WHERE Price < 10;\n",
        "```\n",
        "- **Purpose**: This query finds all books that cost less than $10.\n",
        "\n",
        "#### 4. Order by Year:\n",
        "```sql\n",
        "SELECT * FROM Books ORDER BY PublishedYear ASC;\n",
        "```\n",
        "- **Purpose**: This query lists all books ordered by their published year in ascending order.\n",
        "\n",
        "#### 5. Filter with Multiple Conditions:\n",
        "```sql\n",
        "SELECT * FROM Books\n",
        "WHERE (Genre = 'Classic' OR Price BETWEEN 8.00 AND 12.00)\n",
        "AND PublishedYear >= 1950;\n",
        "```\n",
        "- **Purpose**: This query finds all books that are either in the 'Classic' genre or have a price between $8.00 and $12.00, but excludes books published before 1950.\n",
        "\n",
        "#### 6. Find NULL ISBNs:\n",
        "```sql\n",
        "SELECT * FROM Books WHERE ISBN IS NULL;\n",
        "```\n",
        "- **Purpose**: This query finds all books where the ISBN is `NULL`.\n",
        "\n",
        "#### 7. Use of IN Clause:\n",
        "```sql\n",
        "SELECT * FROM Books WHERE Author IN ('Harper Lee', 'George Orwell');\n",
        "```\n",
        "- **Purpose**: This query finds all books written by either 'Harper Lee' or 'George Orwell'.\n",
        "\n",
        "#### 8. Apply an Alias:\n",
        "```sql\n",
        "SELECT Title, Price AS Cost FROM Books;\n",
        "```\n",
        "- **Purpose**: This query retrieves the book title and price, but displays the price as \"Cost\" using an alias.\n",
        "\n",
        "These queries will allow you to explore and manipulate the data in the `Books` table effectively."
      ],
      "metadata": {
        "id": "hXTSeNJS1GC3"
      }
    },
    {
      "cell_type": "markdown",
      "source": [
        "To execute SQL commands in Google Colab, you can use SQLite, a lightweight, disk-based database that doesn't require a separate server process. Here’s how you can do it in Google Colab:\n",
        "\n",
        "### Part 1: Setting Up the Database and Inserting Data\n",
        "\n",
        "#### 1. Set Up the Database and Create the `Books` Table:\n",
        "```python\n",
        "import sqlite3\n",
        "\n",
        "# Connect to SQLite database (it will create a new database file if it doesn't exist)\n",
        "conn = sqlite3.connect('books.db')\n",
        "\n",
        "# Create a cursor object to execute SQL commands\n",
        "cursor = conn.cursor()\n",
        "\n",
        "# Create the Books table\n",
        "cursor.execute('''\n",
        "CREATE TABLE IF NOT EXISTS Books (\n",
        "  BookID INTEGER PRIMARY KEY AUTOINCREMENT,\n",
        "  Title TEXT NOT NULL,\n",
        "  Author TEXT NOT NULL,\n",
        "  Genre TEXT,\n",
        "  PublishedYear INTEGER,\n",
        "  Price REAL,\n",
        "  ISBN TEXT UNIQUE\n",
        ")\n",
        "''')\n",
        "\n",
        "# Commit the changes\n",
        "conn.commit()\n",
        "```\n",
        "\n",
        "#### 2. Insert Data into the `Books` Table:\n",
        "```python\n",
        "# Insert records into the Books table\n",
        "cursor.executemany('''\n",
        "INSERT INTO Books (Title, Author, Genre, PublishedYear, Price, ISBN)\n",
        "VALUES (?, ?, ?, ?, ?, ?)\n",
        "''', [\n",
        "    ('To Kill a Mockingbird', 'Harper Lee', 'Fiction', 1960, 10.99, None),\n",
        "    ('1984', 'George Orwell', 'Dystopian', 1949, 8.99, '9780451524935'),\n",
        "    ('The Great Gatsby', 'F. Scott Fitzgerald', 'Classic', 1925, 12.50, '9780743273565'),\n",
        "    ('The Catcher in the Rye', 'J.D. Salinger', 'Classic', 1951, 7.99, None),\n",
        "    ('Pride and Prejudice', 'Jane Austen', 'Romance', 1813, 9.99, '9780141439518')\n",
        "])\n",
        "\n",
        "# Commit the changes\n",
        "conn.commit()\n",
        "```\n",
        "\n",
        "### Part 2: Writing SQL Queries\n",
        "\n",
        "#### 1. Retrieve All Records:\n",
        "```python\n",
        "# Query to retrieve all records\n",
        "cursor.execute('SELECT * FROM Books')\n",
        "all_books = cursor.fetchall()\n",
        "\n",
        "# Display the results\n",
        "for book in all_books:\n",
        "    print(book)\n",
        "```\n",
        "\n",
        "#### 2. List Distinct Genres:\n",
        "```python\n",
        "# Query to list distinct genres\n",
        "cursor.execute('SELECT DISTINCT Genre FROM Books')\n",
        "distinct_genres = cursor.fetchall()\n",
        "\n",
        "# Display the results\n",
        "for genre in distinct_genres:\n",
        "    print(genre)\n",
        "```\n",
        "\n",
        "#### 3. Filter by Price:\n",
        "```python\n",
        "# Query to find books that cost less than $10\n",
        "cursor.execute('SELECT * FROM Books WHERE Price < 10')\n",
        "cheap_books = cursor.fetchall()\n",
        "\n",
        "# Display the results\n",
        "for book in cheap_books:\n",
        "    print(book)\n",
        "```\n",
        "\n",
        "#### 4. Order by Year:\n",
        "```python\n",
        "# Query to list books ordered by their published year\n",
        "cursor.execute('SELECT * FROM Books ORDER BY PublishedYear ASC')\n",
        "ordered_books = cursor.fetchall()\n",
        "\n",
        "# Display the results\n",
        "for book in ordered_books:\n",
        "    print(book)\n",
        "```\n",
        "\n",
        "#### 5. Filter with Multiple Conditions:\n",
        "```python\n",
        "# Query to find books with specific conditions\n",
        "cursor.execute('''\n",
        "SELECT * FROM Books\n",
        "WHERE (Genre = 'Classic' OR Price BETWEEN 8.00 AND 12.00)\n",
        "AND PublishedYear >= 1950\n",
        "''')\n",
        "filtered_books = cursor.fetchall()\n",
        "\n",
        "# Display the results\n",
        "for book in filtered_books:\n",
        "    print(book)\n",
        "```\n",
        "\n",
        "#### 6. Find NULL ISBNs:\n",
        "```python\n",
        "# Query to find books where ISBN is NULL\n",
        "cursor.execute('SELECT * FROM Books WHERE ISBN IS NULL')\n",
        "books_with_null_isbn = cursor.fetchall()\n",
        "\n",
        "# Display the results\n",
        "for book in books_with_null_isbn:\n",
        "    print(book)\n",
        "```\n",
        "\n",
        "#### 7. Use of IN Clause:\n",
        "```python\n",
        "# Query to find books written by either Harper Lee or George Orwell\n",
        "cursor.execute(\"SELECT * FROM Books WHERE Author IN ('Harper Lee', 'George Orwell')\")\n",
        "specific_authors_books = cursor.fetchall()\n",
        "\n",
        "# Display the results\n",
        "for book in specific_authors_books:\n",
        "    print(book)\n",
        "```\n",
        "\n",
        "#### 8. Apply an Alias:\n",
        "```python\n",
        "# Query to retrieve the book title and price with an alias for price\n",
        "cursor.execute('SELECT Title, Price AS Cost FROM Books')\n",
        "books_with_cost = cursor.fetchall()\n",
        "\n",
        "# Display the results\n",
        "for book in books_with_cost:\n",
        "    print(book)\n",
        "```\n",
        "\n",
        "### Final Step: Closing the Connection\n",
        "Don't forget to close the database connection after you're done to ensure that all changes are saved properly:\n",
        "```python\n",
        "# Close the connection\n",
        "conn.close()\n",
        "```\n",
        "\n",
        "You can run these code snippets in Google Colab sequentially to create the database, insert data, and perform the SQL queries. The results will be printed in the Colab notebook."
      ],
      "metadata": {
        "id": "k6qYLkA21Esx"
      }
    },
    {
      "cell_type": "markdown",
      "source": [
        "#2"
      ],
      "metadata": {
        "id": "jE8g-AtnxnCB"
      }
    },
    {
      "cell_type": "code",
      "source": [
        "import sqlite3\n",
        "\n",
        "# Connect to SQLite database (it will create a new database file if it doesn't exist)\n",
        "conn = sqlite3.connect('books.db')\n",
        "\n",
        "# Create a cursor object to execute SQL commands\n",
        "cursor = conn.cursor()\n",
        "\n",
        "# Create the Books table\n",
        "cursor.execute('''\n",
        "CREATE TABLE IF NOT EXISTS Books (\n",
        "  BookID INTEGER PRIMARY KEY AUTOINCREMENT,\n",
        "  Title TEXT NOT NULL,\n",
        "  Author TEXT NOT NULL,\n",
        "  Genre TEXT,\n",
        "  PublishedYear INTEGER,\n",
        "  Price REAL,\n",
        "  ISBN TEXT UNIQUE\n",
        ")\n",
        "''')\n",
        "\n",
        "# Commit the changes\n",
        "conn.commit()\n"
      ],
      "metadata": {
        "id": "OCqNM08h1c2F"
      },
      "execution_count": null,
      "outputs": []
    },
    {
      "cell_type": "code",
      "source": [
        "# Insert records into the Books table\n",
        "cursor.executemany('''\n",
        "INSERT INTO Books (Title, Author, Genre, PublishedYear, Price, ISBN)\n",
        "VALUES (?, ?, ?, ?, ?, ?)\n",
        "''', [\n",
        "    ('To Kill a Mockingbird', 'Harper Lee', 'Fiction', 1960, 10.99, None),\n",
        "    ('1984', 'George Orwell', 'Dystopian', 1949, 8.99, '9780451524935'),\n",
        "    ('The Great Gatsby', 'F. Scott Fitzgerald', 'Classic', 1925, 12.50, '9780743273565'),\n",
        "    ('The Catcher in the Rye', 'J.D. Salinger', 'Classic', 1951, 7.99, None),\n",
        "    ('Pride and Prejudice', 'Jane Austen', 'Romance', 1813, 9.99, '9780141439518')\n",
        "])\n",
        "\n",
        "# Commit the changes\n",
        "conn.commit()\n"
      ],
      "metadata": {
        "id": "Gd9yP6rq1n0G"
      },
      "execution_count": null,
      "outputs": []
    },
    {
      "cell_type": "code",
      "source": [
        "# Query to retrieve all records\n",
        "cursor.execute('SELECT * FROM Books')\n",
        "all_books = cursor.fetchall()\n",
        "\n",
        "# Display the results\n",
        "for book in all_books:\n",
        "    print(book)\n"
      ],
      "metadata": {
        "colab": {
          "base_uri": "https://localhost:8080/"
        },
        "id": "NrywyU2L1soa",
        "outputId": "b7f5775b-f807-474c-fdae-a5a10e25c372"
      },
      "execution_count": null,
      "outputs": [
        {
          "output_type": "stream",
          "name": "stdout",
          "text": [
            "(1, 'To Kill a Mockingbird', 'Harper Lee', 'Fiction', 1960, 10.99, None)\n",
            "(2, '1984', 'George Orwell', 'Dystopian', 1949, 8.99, '9780451524935')\n",
            "(3, 'The Great Gatsby', 'F. Scott Fitzgerald', 'Classic', 1925, 12.5, '9780743273565')\n",
            "(4, 'The Catcher in the Rye', 'J.D. Salinger', 'Classic', 1951, 7.99, None)\n",
            "(5, 'Pride and Prejudice', 'Jane Austen', 'Romance', 1813, 9.99, '9780141439518')\n"
          ]
        }
      ]
    },
    {
      "cell_type": "code",
      "source": [
        "# Query to list distinct genres\n",
        "cursor.execute('SELECT DISTINCT Genre FROM Books')\n",
        "distinct_genres = cursor.fetchall()\n",
        "\n",
        "# Display the results\n",
        "for genre in distinct_genres:\n",
        "    print(genre)\n"
      ],
      "metadata": {
        "colab": {
          "base_uri": "https://localhost:8080/"
        },
        "id": "ac2UAJ7O1yCh",
        "outputId": "b456be93-8eb6-4283-c7c6-500f54617323"
      },
      "execution_count": null,
      "outputs": [
        {
          "output_type": "stream",
          "name": "stdout",
          "text": [
            "('Fiction',)\n",
            "('Dystopian',)\n",
            "('Classic',)\n",
            "('Romance',)\n"
          ]
        }
      ]
    },
    {
      "cell_type": "code",
      "source": [
        "# Query to find books that cost less than $10\n",
        "cursor.execute('SELECT * FROM Books WHERE Price < 10')\n",
        "cheap_books = cursor.fetchall()\n",
        "\n",
        "# Display the results\n",
        "for book in cheap_books:\n",
        "    print(book)\n"
      ],
      "metadata": {
        "colab": {
          "base_uri": "https://localhost:8080/"
        },
        "id": "nc3T4tGp11P9",
        "outputId": "1d8fe5e7-fa8f-4e29-9ec7-25fa04db1b70"
      },
      "execution_count": null,
      "outputs": [
        {
          "output_type": "stream",
          "name": "stdout",
          "text": [
            "(2, '1984', 'George Orwell', 'Dystopian', 1949, 8.99, '9780451524935')\n",
            "(4, 'The Catcher in the Rye', 'J.D. Salinger', 'Classic', 1951, 7.99, None)\n",
            "(5, 'Pride and Prejudice', 'Jane Austen', 'Romance', 1813, 9.99, '9780141439518')\n"
          ]
        }
      ]
    },
    {
      "cell_type": "code",
      "source": [
        "# Query to list books ordered by their published year\n",
        "cursor.execute('SELECT * FROM Books ORDER BY PublishedYear ASC')\n",
        "ordered_books = cursor.fetchall()\n",
        "\n",
        "# Display the results\n",
        "for book in ordered_books:\n",
        "    print(book)\n"
      ],
      "metadata": {
        "colab": {
          "base_uri": "https://localhost:8080/"
        },
        "id": "VKxlGSxR14zS",
        "outputId": "bd613e38-833d-4ad7-b185-ae8508c3860d"
      },
      "execution_count": null,
      "outputs": [
        {
          "output_type": "stream",
          "name": "stdout",
          "text": [
            "(5, 'Pride and Prejudice', 'Jane Austen', 'Romance', 1813, 9.99, '9780141439518')\n",
            "(3, 'The Great Gatsby', 'F. Scott Fitzgerald', 'Classic', 1925, 12.5, '9780743273565')\n",
            "(2, '1984', 'George Orwell', 'Dystopian', 1949, 8.99, '9780451524935')\n",
            "(4, 'The Catcher in the Rye', 'J.D. Salinger', 'Classic', 1951, 7.99, None)\n",
            "(1, 'To Kill a Mockingbird', 'Harper Lee', 'Fiction', 1960, 10.99, None)\n"
          ]
        }
      ]
    },
    {
      "cell_type": "code",
      "source": [
        "# Query to find books with specific conditions\n",
        "cursor.execute('''\n",
        "SELECT * FROM Books\n",
        "WHERE (Genre = 'Classic' OR Price BETWEEN 8.00 AND 12.00)\n",
        "AND PublishedYear >= 1950\n",
        "''')\n",
        "filtered_books = cursor.fetchall()\n",
        "\n",
        "# Display the results\n",
        "for book in filtered_books:\n",
        "    print(book)\n"
      ],
      "metadata": {
        "colab": {
          "base_uri": "https://localhost:8080/"
        },
        "id": "lnx_KxDI18js",
        "outputId": "c0b2e305-612d-4b2f-b923-2f8ca28107db"
      },
      "execution_count": null,
      "outputs": [
        {
          "output_type": "stream",
          "name": "stdout",
          "text": [
            "(1, 'To Kill a Mockingbird', 'Harper Lee', 'Fiction', 1960, 10.99, None)\n",
            "(4, 'The Catcher in the Rye', 'J.D. Salinger', 'Classic', 1951, 7.99, None)\n"
          ]
        }
      ]
    },
    {
      "cell_type": "code",
      "source": [
        "# Query to find books where ISBN is NULL\n",
        "cursor.execute('SELECT * FROM Books WHERE ISBN IS NULL')\n",
        "books_with_null_isbn = cursor.fetchall()\n",
        "\n",
        "# Display the results\n",
        "for book in books_with_null_isbn:\n",
        "    print(book)\n"
      ],
      "metadata": {
        "colab": {
          "base_uri": "https://localhost:8080/"
        },
        "id": "-5AoaDDv1_ec",
        "outputId": "4a3b3842-c0f6-4319-864b-8e4916d5b2cd"
      },
      "execution_count": null,
      "outputs": [
        {
          "output_type": "stream",
          "name": "stdout",
          "text": [
            "(1, 'To Kill a Mockingbird', 'Harper Lee', 'Fiction', 1960, 10.99, None)\n",
            "(4, 'The Catcher in the Rye', 'J.D. Salinger', 'Classic', 1951, 7.99, None)\n"
          ]
        }
      ]
    },
    {
      "cell_type": "code",
      "source": [
        "# Query to find books written by either Harper Lee or George Orwell\n",
        "cursor.execute(\"SELECT * FROM Books WHERE Author IN ('Harper Lee', 'George Orwell')\")\n",
        "specific_authors_books = cursor.fetchall()\n",
        "\n",
        "# Display the results\n",
        "for book in specific_authors_books:\n",
        "    print(book)\n"
      ],
      "metadata": {
        "colab": {
          "base_uri": "https://localhost:8080/"
        },
        "id": "q-KbmnKd2CUs",
        "outputId": "f6edf89b-2a6e-4b24-856b-390987edc56e"
      },
      "execution_count": null,
      "outputs": [
        {
          "output_type": "stream",
          "name": "stdout",
          "text": [
            "(1, 'To Kill a Mockingbird', 'Harper Lee', 'Fiction', 1960, 10.99, None)\n",
            "(2, '1984', 'George Orwell', 'Dystopian', 1949, 8.99, '9780451524935')\n"
          ]
        }
      ]
    },
    {
      "cell_type": "code",
      "source": [
        "# Query to retrieve the book title and price with an alias for price\n",
        "cursor.execute('SELECT Title, Price AS Cost FROM Books')\n",
        "books_with_cost = cursor.fetchall()\n",
        "\n",
        "# Display the results\n",
        "for book in books_with_cost:\n",
        "    print(book)\n"
      ],
      "metadata": {
        "id": "z11A_MCr2GYT",
        "outputId": "b3686688-4554-4549-e3cb-1f6adf355245",
        "colab": {
          "base_uri": "https://localhost:8080/"
        }
      },
      "execution_count": null,
      "outputs": [
        {
          "output_type": "stream",
          "name": "stdout",
          "text": [
            "('To Kill a Mockingbird', 10.99)\n",
            "('1984', 8.99)\n",
            "('The Great Gatsby', 12.5)\n",
            "('The Catcher in the Rye', 7.99)\n",
            "('Pride and Prejudice', 9.99)\n"
          ]
        }
      ]
    },
    {
      "cell_type": "code",
      "source": [
        "# Close the connection\n",
        "conn.close()\n"
      ],
      "metadata": {
        "id": "_SpABiSz2JVO"
      },
      "execution_count": null,
      "outputs": []
    }
  ]
}